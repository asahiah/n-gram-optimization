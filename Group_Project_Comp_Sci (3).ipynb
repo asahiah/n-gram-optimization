{
 "cells": [
  {
   "cell_type": "code",
   "execution_count": null,
   "metadata": {
    "id": "4Gbe98PqfDDL"
   },
   "outputs": [],
   "source": [
    "class Animal: # This is the base class of the code that handles any animal at all\n",
    "\n",
    "  def __init__(self, name, species, age): # This is the constructor so essential, it runs when you create a new animal object\n",
    "    self.name = name\n",
    "    self.species = species\n",
    "    self.age = age\n",
    "    self.fed = False\n",
    "    self.medical_check = False\n",
    "    self.enclosure = \"Main Enclosure\"\n",
    "\n",
    "# These are the subclasses for each type of animal in the zoo\n",
    "class Mammal(Animal):\n",
    "  def __init__(self, name, age):\n",
    "    super().__init__(name,\"Mammal\",age)\n",
    "class Bird(Animal):\n",
    "  def __init__(self, name, age):\n",
    "    super().__init__(name,\"Bird\",age)\n",
    "class Reptile(Animal):\n",
    "  def __init__(self, name, age):\n",
    "    super().__init__(name,\"Reptile\",age)\n",
    "\n",
    "zoo_animals = [] # Holds every animal you create\n",
    "\n",
    "Sierra = Mammal(\"Sierra\", 5)\n",
    "Vernon = Bird(\"Vernon\", 2)\n",
    "Todd = Reptile(\"Todd\", 4)\n",
    "\n",
    "zoo_animals.extend([Sierra,Vernon,Todd])"
   ]
  },
  {
   "cell_type": "code",
   "execution_count": null,
   "metadata": {
    "id": "zPbMdo6yE12G"
   },
   "outputs": [],
   "source": [
    "def feed(self):\n",
    "  self.fed = True\n",
    "  print(f\"{self.name} has been fed.\")\n",
    "\n",
    "def medical_checkup(self):\n",
    "  self.medical_check = True\n",
    "  print(f\"{self.name} has had a medical checkup.\")\n",
    "\n",
    "def transfer(self, new_location):\n",
    "  print(f\"{self.name} has been transferred to {new_location}.\")\n",
    "\n",
    "def __str__(self):\n",
    "  return (f\"{self.name} ({self.species}, Age: {self.age}) - \"\n",
    "    f\"Fed: {self.fed}, Medical Check: {self.medical_check}\")"
   ]
  },
  {
   "cell_type": "code",
   "execution_count": null,
   "metadata": {
    "colab": {
     "base_uri": "https://localhost:8080/"
    },
    "id": "zrQoGrACAXbe",
    "outputId": "9b89f252-e7c7-4b3a-c969-e171ead0d254"
   },
   "outputs": [],
   "source": [
    "class Task:\n",
    "    def __init__(self, title, status):\n",
    "        self.title = title\n",
    "        self.status = status\n",
    "\n",
    "    def __str__(self):\n",
    "        return f\"Task: {self.title}, Status: {self.status}\"\n",
    "\n",
    "# Create instances\n",
    "task1 = Task(\"Write report\", \"In Progress\")\n",
    "task2 = Task(\"Submit project\", \"Completed\")\n",
    "\n",
    "# Print status reports\n",
    "print(task1)\n",
    "print(task2)\n"
   ]
  },
  {
   "cell_type": "code",
   "execution_count": null,
   "metadata": {
    "colab": {
     "base_uri": "https://localhost:8080/"
    },
    "id": "XxpfXnk1BFdf",
    "outputId": "40b1b2f4-112a-4ca5-815b-bea7b90fadfa"
   },
   "outputs": [],
   "source": [
    "animals = {\n",
    "    \"lion\": \"King of the jungle\",\n",
    "    \"elephant\": \"Largest land animal\",\n",
    "    \"zebra\": \"Striped herbivore\"\n",
    "}\n",
    "\n",
    "# Try to access an animal\n",
    "try:\n",
    "    animal_name = \"tiger\"  # This one does NOT exist\n",
    "    description = animals[animal_name]\n",
    "    print(f\"{animal_name.capitalize()}: {description}\")\n",
    "except KeyError:\n",
    "    print(f\"Error: '{animal_name}' not found in the animal dictionary.\")\n"
   ]
  },
  {
   "cell_type": "code",
   "execution_count": 52,
   "metadata": {
    "colab": {
     "base_uri": "https://localhost:8080/"
    },
    "id": "lJcZ4MNjL5__",
    "outputId": "58af6017-242a-48b9-822a-13664f4b65bd"
   },
   "outputs": [
    {
     "name": "stdout",
     "output_type": "stream",
     "text": [
      "Task: Write report, Status: In Progress\n",
      "Task: Submit project, Status: Completed\n",
      "Error: 'tiger' not found in the animal dictionary.\n",
      "Sierra\n",
      "Sierra has been fed.\n",
      "Sierra has had a medical checkup.\n",
      "Sierra has been transferred to New Habitat.\n",
      "Sierra\n",
      "-\n",
      "Todd (Bird, Age: 2) - Fed: False, Medical Check: False\n",
      "Todd has been fed.\n",
      "Todd has had a medical checkup.\n",
      "Todd has been transferred to New Habitat.\n",
      "Todd (Bird, Age: 2) - Fed: True, Medical Check: True\n",
      "-\n",
      "Vernon (Reptile, Age: 4) - Fed: False, Medical Check: False\n",
      "Vernon has been fed.\n",
      "Vernon has had a medical checkup.\n",
      "Vernon has been transferred to New Habitat.\n",
      "Vernon (Reptile, Age: 4) - Fed: True, Medical Check: True\n",
      "-\n"
     ]
    }
   ],
   "source": [
    "# Full Code\n",
    "class Animal:\n",
    "  def __init__(self, name, species, age):\n",
    "    self.name = name\n",
    "    self.species = species\n",
    "    self.age = age\n",
    "    self.fed = False\n",
    "    self.medical_check = False\n",
    "    self.enclosure = \"Main Enclosure\"\n",
    "  def feed(self):\n",
    "    self.fed = True\n",
    "    print(f\"{self.name} has been fed.\")\n",
    "  def medical_checkup(self):\n",
    "    self.medical_check = True\n",
    "    print(f\"{self.name} has had a medical checkup.\")\n",
    "  def transfer(self, new_location):\n",
    "   print(f\"{self.name} has been transferred to {new_location}.\")\n",
    "  def __str__(self):\n",
    "    return (f\"{self.name} ({self.species}, Age: {self.age}) - \"\n",
    "     f\"Fed: {self.fed}, Medical Check: {self.medical_check}\")\n",
    "\n",
    "\n",
    "class Mammal(Animal):\n",
    "  def __init__(self, name, age):\n",
    "    super().__init__(name,\"Mammal\",age)\n",
    "\n",
    "  def __str__(self):\n",
    "    return f\"{self.name}\"\n",
    "\n",
    "class Bird(Animal):\n",
    "  def __init__(self, name, age):\n",
    "    super().__init__(name,\"Bird\",age)\n",
    "class Reptile(Animal):\n",
    "  def __init__(self, name, age):\n",
    "    super().__init__(name,\"Reptile\",age)\n",
    "\n",
    "zoo_animals = []\n",
    "\n",
    "Sierra = Mammal(\"Sierra\", 5)\n",
    "Todd = Bird(\"Todd\", 2)\n",
    "Vernon = Reptile(\"Vernon\", 4)\n",
    "\n",
    "zoo_animals.extend([Sierra,Todd,Vernon])\n",
    "\n",
    "class Task:\n",
    "  def __init__(self, title, status):\n",
    "    self.title = title\n",
    "    self.status = status\n",
    "  def __str__(self):\n",
    "    return f\"Task: {self.title}, Status: {self.status}\"\n",
    "\n",
    "task1 = Task(\"Write report\",\"In Progress\")\n",
    "task2 = Task(\"Submit project\",\"Completed\")\n",
    "print(task1)\n",
    "print(task2)\n",
    "\n",
    "animals = {\n",
    "  \"lion\": \"King of the jungle\",\n",
    "  \"elephant\": \"Largest land animal\",\n",
    "  \"zebra\": \"Striped herbivore\"\n",
    "}\n",
    "\n",
    "try:\n",
    "  animal_name = \"tiger\"\n",
    "  description = animals[animal_name]\n",
    "  print(f\"{animal_name.capitalize()}: {description}\")\n",
    "except KeyError:\n",
    "  print(f\"Error: '{animal_name}' not found in the animal dictionary.\")\n",
    "\n",
    "\n",
    "for animal in zoo_animals:\n",
    "  print(animal)\n",
    "  animal.feed()\n",
    "  animal.medical_checkup()\n",
    "  animal.transfer(\"New Habitat\")\n",
    "  print(animal)\n",
    "  print(\"-\"*1)\n",
    "Todd.medical_check = 'True'\n",
    "Vernon.medical_check = 'True'\n",
    "#The search function\n",
    "def search_species():\n",
    "    record = zoo_animals\n",
    "    query = input(\"What specie of animal do you want to search for? \")\n",
    "    result = list(filter(lambda val: query.lower() == val.species.lower(), record))\n",
    "    outcome = [res.name for res in result]\n",
    "    print(outcome)\n",
    "\n",
    "def search_status():\n",
    "    record = zoo_animals\n",
    "    query = input(\"Which value of animal medical status do you want to check for? \")\n",
    "    result = list(filter(lambda val: query == val.medical_check, record))\n",
    "    outcome = [res.name for res in result]\n",
    "    print(outcome)"
   ]
  },
  {
   "cell_type": "code",
   "execution_count": 49,
   "metadata": {},
   "outputs": [
    {
     "name": "stdin",
     "output_type": "stream",
     "text": [
      "What specie of animal do you want to search for?  Mammal\n"
     ]
    },
    {
     "name": "stdout",
     "output_type": "stream",
     "text": [
      "['Sierra']\n"
     ]
    }
   ],
   "source": [
    "search_species()"
   ]
  },
  {
   "cell_type": "code",
   "execution_count": 50,
   "metadata": {},
   "outputs": [
    {
     "name": "stdin",
     "output_type": "stream",
     "text": [
      "Which value of animal medical status do you want to check for?  True\n"
     ]
    }
   ],
   "source": [
    "search_status()"
   ]
  },
  {
   "cell_type": "code",
   "execution_count": 51,
   "metadata": {},
   "outputs": [
    {
     "data": {
      "text/plain": [
       "'True'"
      ]
     },
     "execution_count": 51,
     "metadata": {},
     "output_type": "execute_result"
    }
   ],
   "source": [
    "Todd.medical_check"
   ]
  },
  {
   "cell_type": "code",
   "execution_count": 53,
   "metadata": {},
   "outputs": [
    {
     "name": "stdin",
     "output_type": "stream",
     "text": [
      "What specie of animal do you want to search for?  Bird\n"
     ]
    },
    {
     "name": "stdout",
     "output_type": "stream",
     "text": [
      "['Todd']\n"
     ]
    },
    {
     "name": "stdin",
     "output_type": "stream",
     "text": [
      "Which value of animal medical status do you want to check for?  True\n"
     ]
    },
    {
     "name": "stdout",
     "output_type": "stream",
     "text": [
      "['Todd', 'Vernon']\n"
     ]
    }
   ],
   "source": [
    "search_species()\n",
    "search_status()"
   ]
  },
  {
   "cell_type": "code",
   "execution_count": null,
   "metadata": {},
   "outputs": [],
   "source": []
  }
 ],
 "metadata": {
  "colab": {
   "provenance": []
  },
  "kernelspec": {
   "display_name": "Python 3 (ipykernel)",
   "language": "python",
   "name": "python3"
  },
  "language_info": {
   "codemirror_mode": {
    "name": "ipython",
    "version": 3
   },
   "file_extension": ".py",
   "mimetype": "text/x-python",
   "name": "python",
   "nbconvert_exporter": "python",
   "pygments_lexer": "ipython3",
   "version": "3.12.3"
  }
 },
 "nbformat": 4,
 "nbformat_minor": 4
}
